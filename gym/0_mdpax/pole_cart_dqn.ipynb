{
  "cells": [
    {
      "cell_type": "code",
      "execution_count": 10,
      "metadata": {
        "id": "PVb2vPSmqlaC"
      },
      "outputs": [],
      "source": [
        "import os\n",
        "import random\n",
        "import gymnasium as gym\n",
        "import numpy as np\n",
        "from collections import deque\n",
        "import torch\n",
        "from torch import nn as nn\n",
        "#import torch.nn as nn OR from torch import nn as nn\n",
        "#import torch.optim as optim  OR from torch import optim as optim\n",
        "env = gym.make('CartPole-v1',render_mode=\"human\") # environment info\n",
        "state_size = env.observation_space.shape[0]\n",
        "\n",
        "#state_size = 4\n",
        "action_size = env.action_space.n\n",
        "#action_size = 2\n",
        "\n",
        "batch_size = 32  # increase by powers of 2\n",
        "num_episodes = 1000 # increase for more training\n",
        "\n",
        "output_dir = 'results/cartpole'\n",
        "if not os.path.exists(output_dir):\n",
        "    os.makedirs(output_dir)\n"
      ]
    },
    {
      "cell_type": "code",
      "execution_count": 11,
      "metadata": {},
      "outputs": [
        {
          "name": "stdout",
          "output_type": "stream",
          "text": [
            "gymnasium                  0.29.1\n",
            "Note: you may need to restart the kernel to use updated packages.\n"
          ]
        }
      ],
      "source": [
        "pip list | grep gym"
      ]
    },
    {
      "cell_type": "code",
      "execution_count": 12,
      "metadata": {
        "id": "2p3b_9fHqxtu"
      },
      "outputs": [],
      "source": [
        "class Agent:\n",
        "    def __init__(self, state_size, action_size):\n",
        "        self.state_size = state_size\n",
        "        self.action_size = action_size\n",
        "        # memory reply\n",
        "        self.memory = deque(maxlen=2000)\n",
        "        # discount factor\n",
        "        self.gamma = 0.95                   #closer to 1, more importance to future rewards\n",
        "        # exploration rate\n",
        "        self.epsilon = 1.0                  # how much to act randomly\n",
        "        # decay rate\n",
        "        self.epsilon_decay = 0.995          # how much to reduce exploration rate epsilon*decay = new_epsilon\n",
        "        # min exploration rate\n",
        "        self.epsilon_min = 0.01             # ensure epsilon doesn't go below a certain value\n",
        "        # learning rate\n",
        "        self.learning_rate = 0.001          # how much we update our DQN\n",
        "        self.model = self._build_model()\n",
        "\n",
        "        self.loss_function = torch.nn.MSELoss()\n",
        "        self.optimizer = torch.optim.Adam(self.model.parameters(), lr=self.learning_rate)\n",
        "\n",
        "\n",
        "    def _build_model(self):\n",
        "        model = nn.Sequential(\n",
        "            nn.Linear(self.state_size, 24),\n",
        "            nn.GELU(),\n",
        "            #nn.ReLU(),\n",
        "            nn.Linear(24, 24),\n",
        "            nn.GELU(),\n",
        "            #nn.ReLU(),\n",
        "            nn.Linear(24, self.action_size)\n",
        "        )\n",
        "        return model\n",
        "\n",
        "    def remember(self, state, action, reward, next_state, done):\n",
        "        # store the state, action, reward, next_state, done in memory\n",
        "        self.memory.append((state, action, reward, next_state, done))\n",
        "\n",
        "    def act(self, state):\n",
        "        #if random number (0 -> 1) is less than epsilon, act randomly\n",
        "        if np.random.rand() <= self.epsilon:\n",
        "            return random.randrange(self.action_size)\n",
        "        # otherwise, get the model to predict the Q values of the state\n",
        "\n",
        "        # convert state to a tensor\n",
        "        # bc PyTorch models expect input in the form of tensors\n",
        "        state = torch.FloatTensor(state)\n",
        "\n",
        "        # act_values is an array of Q values for each action\n",
        "        act_values = self.model(state)\n",
        "\n",
        "        # argmax returns the index of the max value in the array act_values\n",
        "        return torch.argmax(act_values).item()\n",
        "\n",
        "        # maybe add softmax here?\n",
        "\n",
        "    def replay(self, batch_size):\n",
        "        # if memory is less than batch_size, do nothing\n",
        "        if len(self.memory) < batch_size:\n",
        "            return\n",
        "        # Select a random batch of experiences from the memory\n",
        "        minibatch = random.sample(self.memory, batch_size)\n",
        "\n",
        "        # Loop through each experience in the minibatch\n",
        "        for state, action, reward, next_state, done in minibatch:\n",
        "            # convert state, next_state to tensors\n",
        "            state = torch.FloatTensor(state)\n",
        "            next_state = torch.FloatTensor(next_state)\n",
        "            action = torch.LongTensor([action])\n",
        "            reward = torch.FloatTensor([reward])\n",
        "            done = torch.FloatTensor([done])\n",
        "\n",
        "            # If the episode has ended, the target is just the reward\n",
        "            # If the episode has not ended, calculate the future discounted reward\n",
        "            # Bellman equation: Q(s,a) = r + gamma * max Q(s',a')\n",
        "            # reward = reward + gamma * (max Q value of the next state)\n",
        "            target = reward + self.gamma * torch.max(self.model(next_state)) * (1 - done)\n",
        "\n",
        "            # Get the predicted Q values\n",
        "            #current_prediction = self.model(state)[action]\n",
        "            # Get the predicted Q values\n",
        "            current_prediction = self.model(state).gather(1, action.unsqueeze(-1))\n",
        "            # Calculate the loss function between the predicted Q values and the target\n",
        "            loss = self.loss_function(current_prediction, target)\n",
        "\n",
        "            # Zero the gradients\n",
        "            self.optimizer.zero_grad()\n",
        "            # Backpropagate the loss (calculate the gradients)\n",
        "            loss.backward()\n",
        "            # Update the weights (adam step)\n",
        "            self.optimizer.step()\n",
        "\n",
        "\n",
        "        # If epsilon is greater than epsilon_minimum, decay it\n",
        "        if self.epsilon > self.epsilon_min:\n",
        "            # epsilon = epsilon * decay\n",
        "            self.epsilon *= self.epsilon_decay\n",
        "\n",
        "    def load(self, name):\n",
        "        self.model.load_state_dict(torch.load(name))\n",
        "\n",
        "    def save(self, name):\n",
        "        torch.save(self.model.state_dict(), name)\n"
      ]
    },
    {
      "cell_type": "code",
      "execution_count": 13,
      "metadata": {
        "id": "PZm4K9eLq9FN"
      },
      "outputs": [
        {
          "ename": "",
          "evalue": "",
          "output_type": "error",
          "traceback": [
            "\u001b[1;31mThe Kernel crashed while executing code in the current cell or a previous cell. \n",
            "\u001b[1;31mPlease review the code in the cell(s) to identify a possible cause of the failure. \n",
            "\u001b[1;31mClick <a href='https://aka.ms/vscodeJupyterKernelCrash'>here</a> for more info. \n",
            "\u001b[1;31mView Jupyter <a href='command:jupyter.viewOutput'>log</a> for further details."
          ]
        }
      ],
      "source": [
        "agent = Agent(state_size, action_size)\n",
        "    # extract the numpy array from the state variable\n",
        "    # state_array = state[0]\n",
        "    # reshape the numpy array\n",
        "    # state = np.reshape(state_array, [1, state_array.shape[0]])\n",
        "    # now state_array is reshaped\n",
        "\n",
        "    # old transpose:\n",
        "    # reshape the states, transpose them to fit the model\n",
        "    # state = np.reshape(state, [1, state_size])"
      ]
    },
    {
      "cell_type": "code",
      "execution_count": 14,
      "metadata": {
        "colab": {
          "base_uri": "https://localhost:8080/"
        },
        "collapsed": true,
        "id": "nfKtZcwBq-46",
        "outputId": "cd79c840-a2de-40e3-8658-3245b356322f"
      },
      "outputs": [
        {
          "name": "stdout",
          "output_type": "stream",
          "text": [
            "episode: 0/1000, score: 9, e: 1.0\n",
            "episode: 1/1000, score: 22, e: 1.0\n"
          ]
        },
        {
          "name": "stderr",
          "output_type": "stream",
          "text": [
            "/home/library/workspace/mlos/venvs/torch/lib/python3.10/site-packages/torch/nn/modules/loss.py:535: UserWarning: Using a target size (torch.Size([1])) that is different to the input size (torch.Size([1, 1])). This will likely lead to incorrect results due to broadcasting. Please ensure they have the same size.\n",
            "  return F.mse_loss(input, target, reduction=self.reduction)\n"
          ]
        },
        {
          "name": "stdout",
          "output_type": "stream",
          "text": [
            "80.5 ms ± 4.93 ms per loop (mean ± std. dev. of 7 runs, 10 loops each)\n",
            "episode: 2/1000, score: 18, e: 0.66\n",
            "80.4 ms ± 1.89 ms per loop (mean ± std. dev. of 7 runs, 10 loops each)\n",
            "episode: 3/1000, score: 13, e: 0.44\n",
            "80.2 ms ± 1.89 ms per loop (mean ± std. dev. of 7 runs, 10 loops each)\n",
            "episode: 4/1000, score: 67, e: 0.29\n",
            "88.2 ms ± 9.01 ms per loop (mean ± std. dev. of 7 runs, 10 loops each)\n",
            "episode: 5/1000, score: 121, e: 0.19\n",
            "80.3 ms ± 2.37 ms per loop (mean ± std. dev. of 7 runs, 10 loops each)\n",
            "episode: 6/1000, score: 196, e: 0.13\n",
            "90.1 ms ± 4.51 ms per loop (mean ± std. dev. of 7 runs, 10 loops each)\n",
            "episode: 7/1000, score: 243, e: 0.085\n",
            "79.2 ms ± 1.68 ms per loop (mean ± std. dev. of 7 runs, 10 loops each)\n",
            "episode: 8/1000, score: 578, e: 0.056\n",
            "79.6 ms ± 2.03 ms per loop (mean ± std. dev. of 7 runs, 10 loops each)\n",
            "episode: 9/1000, score: 133, e: 0.037\n",
            "78.4 ms ± 1.06 ms per loop (mean ± std. dev. of 7 runs, 10 loops each)\n",
            "episode: 10/1000, score: 198, e: 0.025\n",
            "75.3 ms ± 439 µs per loop (mean ± std. dev. of 7 runs, 10 loops each)\n",
            "episode: 11/1000, score: 320, e: 0.016\n",
            "75.4 ms ± 441 µs per loop (mean ± std. dev. of 7 runs, 10 loops each)\n",
            "episode: 12/1000, score: 257, e: 0.011\n",
            "76.1 ms ± 1.51 ms per loop (mean ± std. dev. of 7 runs, 10 loops each)\n",
            "episode: 13/1000, score: 412, e: 0.01\n",
            "75.2 ms ± 1.07 ms per loop (mean ± std. dev. of 7 runs, 10 loops each)\n"
          ]
        }
      ],
      "source": [
        "# game hasnt started yet\n",
        "done = False\n",
        "for episode in range(num_episodes):\n",
        "\n",
        "    # reset the environment\n",
        "    state = env.reset()\n",
        "\n",
        "    # reshape the states, transpose them to fit the model\n",
        "    state = np.reshape(state[0], [1, state[0].shape[0]])\n",
        "\n",
        "\n",
        "    for time in range(5000):\n",
        "        #env.render()\n",
        "\n",
        "        #checks epsilon and acts randomly or\n",
        "        # converts states into tensor for the model\n",
        "        # to predict the action then acts by argsmax of the Q values\n",
        "        action = agent.act(state)\n",
        "\n",
        "        #envirnment takes the action and returns the next state, reward, done\n",
        "        next_state, reward, done, info, _ = env.step(action)\n",
        "\n",
        "\n",
        "        if not done:\n",
        "            #if the episode is not done, reward is whatever the reward is\n",
        "            reward = reward\n",
        "        else:\n",
        "            #if the episode is done, reward is -10 for failing\n",
        "            reward = -10\n",
        "\n",
        "        # reshape the next state, transpose them to fit the model\n",
        "        next_state = np.reshape(next_state, [1, next_state.shape[0]])\n",
        "\n",
        "        # store in memory\n",
        "        agent.remember(state, action, reward, next_state, done)\n",
        "\n",
        "        # set the state to the next state\n",
        "        state = next_state\n",
        "\n",
        "        #\n",
        "        # if the episode is done: either reached 5000 time steps or agent dropped the pole\n",
        "        # print the episode number, score, epsilon, and break\n",
        "        if done:\n",
        "            print(\"episode: {}/{}, score: {}, e: {:.2}\".format(episode, num_episodes, time, agent.epsilon))\n",
        "            break\n",
        "\n",
        "    if len(agent.memory) > 32:\n",
        "            %timeit agent.replay(32)\n",
        "            if agent.epsilon > agent.epsilon_min:\n",
        "                agent.epsilon *= agent.epsilon_decay\n",
        "    if episode % 50 == 0:\n",
        "        agent.save(output_dir + \"weights_\" + \"{:04d}\".format(episode) + \".hdf5\")"
      ]
    },
    {
      "cell_type": "code",
      "execution_count": null,
      "metadata": {
        "id": "V27T82VtrAcQ"
      },
      "outputs": [],
      "source": [
        "# prompt: load the weights\n",
        "\n",
        "agent.load(output_dir + \"weights_\" + \"{:04d}\".format(50) + \".hdf5\")\n"
      ]
    }
  ],
  "metadata": {
    "accelerator": "GPU",
    "colab": {
      "gpuType": "T4",
      "provenance": []
    },
    "kernelspec": {
      "display_name": "torch",
      "language": "python",
      "name": "torch"
    },
    "language_info": {
      "codemirror_mode": {
        "name": "ipython",
        "version": 3
      },
      "file_extension": ".py",
      "mimetype": "text/x-python",
      "name": "python",
      "nbconvert_exporter": "python",
      "pygments_lexer": "ipython3",
      "version": "3.10.12"
    }
  },
  "nbformat": 4,
  "nbformat_minor": 0
}
