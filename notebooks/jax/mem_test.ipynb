{
 "cells": [
  {
   "cell_type": "code",
   "execution_count": 48,
   "id": "b5943039-a499-4758-9b10-2b111169680b",
   "metadata": {},
   "outputs": [],
   "source": [
    "# make a nn using flax and jax to train on a simple XOR function\n",
    "import jax\n",
    "import jax.numpy as jnp\n",
    "from flax import linen as nn\n",
    "from jax import random, jit\n",
    "import optax"
   ]
  },
  {
   "cell_type": "code",
   "execution_count": 49,
   "id": "a750a579",
   "metadata": {},
   "outputs": [
    {
     "name": "stdout",
     "output_type": "stream",
     "text": [
      "[cuda(id=0)]\n"
     ]
    }
   ],
   "source": [
    "devices = jax.devices()\n",
    "print(devices)"
   ]
  },
  {
   "cell_type": "code",
   "execution_count": 50,
   "id": "09acddc1",
   "metadata": {},
   "outputs": [],
   "source": [
    "class SimpleNN(nn.Module):\n",
    "    hidden_size: int\n",
    "\n",
    "    @nn.compact\n",
    "    def __call__(self, x):\n",
    "        x = nn.Dense(self.hidden_size)(x)\n",
    "        x = nn.relu(x)\n",
    "        x = nn.Dense(self.hidden_size)(x)\n",
    "        x = nn.relu(x)\n",
    "        x = nn.Dense(self.hidden_size)(x)\n",
    "        x = nn.relu(x)\n",
    "        x = nn.Dense(self.hidden_size)(x)\n",
    "        x = nn.relu(x)\n",
    "        x = nn.Dense(self.hidden_size)(x)\n",
    "        x = nn.relu(x)\n",
    "        x = nn.Dense(self.hidden_size)(x)\n",
    "        x = nn.relu(x)\n",
    "        x = nn.Dense(5)(x)\n",
    "        return x\n",
    "    \n",
    "    \n",
    "\n",
    "def train_step(params, opt_state, x, y):\n",
    "    grads = jax.grad(mse_loss)(params, model, x, y)\n",
    "    updates, opt_state = optimizer.update(grads, opt_state)\n",
    "    params = optax.apply_updates(params, updates)\n",
    "    return params, opt_state\n",
    "\n",
    "def mse_loss(params, model, x, y):\n",
    "    preds = model.apply(params, x)\n",
    "    loss = jnp.mean((preds - y) ** 2)\n",
    "    return loss\n",
    "\n",
    "def train(params, opt_state, x, y):\n",
    "    for epoch in range(num_epochs):\n",
    "        params, opt_state = train_step(params, opt_state, x, y)\n",
    "        if epoch % 20 == 0:\n",
    "            loss = mse_loss(params, model, x, y)\n",
    "            print(f'Epoch {epoch}, Loss: {loss:.4f}')\n",
    "\n",
    "            if loss < 0.0001:\n",
    "                break\n",
    "    return params, opt_state"
   ]
  },
  {
   "cell_type": "code",
   "execution_count": 51,
   "id": "24ae8dc0",
   "metadata": {},
   "outputs": [
    {
     "data": {
      "text/plain": [
       "Array([0., 1., 2., 3., 4.], dtype=float32)"
      ]
     },
     "execution_count": 51,
     "metadata": {},
     "output_type": "execute_result"
    }
   ],
   "source": [
    "# Hyperparameters\n",
    "hidden_size = 25\n",
    "input_size = 5\n",
    "\n",
    "x = jnp.array(jnp.arange(0, input_size), dtype=jnp.float32)\n",
    "\n",
    "y = jnp.array(5*x + 1, dtype=jnp.float32)\n",
    "x"
   ]
  },
  {
   "cell_type": "code",
   "execution_count": 52,
   "id": "8b81d71c",
   "metadata": {},
   "outputs": [],
   "source": [
    "# Create the model\n",
    "model = SimpleNN(hidden_size=hidden_size)\n",
    "# Initialize parameters\n",
    "rng = jax.random.PRNGKey(2)\n",
    "params = model.init(rng, x)\n"
   ]
  },
  {
   "cell_type": "code",
   "execution_count": 53,
   "id": "633b6aa0",
   "metadata": {},
   "outputs": [],
   "source": [
    "\n",
    "# Create an optimizer\n",
    "optimizer = optax.adam(learning_rate=0.01)\n",
    "opt_state = optimizer.init(params)\n"
   ]
  },
  {
   "cell_type": "code",
   "execution_count": 54,
   "id": "d7ff56a1",
   "metadata": {},
   "outputs": [
    {
     "name": "stdout",
     "output_type": "stream",
     "text": [
      "Epoch 0, Loss: 167.2228\n",
      "Epoch 20, Loss: 9.9519\n",
      "Epoch 40, Loss: 0.6404\n",
      "Epoch 60, Loss: 0.1009\n",
      "Epoch 80, Loss: 0.0097\n",
      "Epoch 100, Loss: 0.0002\n",
      "Epoch 120, Loss: 0.0002\n",
      "Epoch 140, Loss: 0.0000\n"
     ]
    }
   ],
   "source": [
    "\n",
    "# Perform a single training step\n",
    "jit_train_step = jit(train_step)\n",
    "params, opt_state = jit_train_step(params, opt_state, x, y)\n",
    "\n",
    "# Training loop\n",
    "num_epochs = 500\n",
    "\n",
    "\n",
    "params, opt_state = train(params, opt_state, x, y)\n"
   ]
  },
  {
   "cell_type": "code",
   "execution_count": 55,
   "id": "9f985a8c",
   "metadata": {},
   "outputs": [
    {
     "data": {
      "text/plain": [
       "Array([5., 6., 7., 8., 9.], dtype=float32)"
      ]
     },
     "execution_count": 55,
     "metadata": {},
     "output_type": "execute_result"
    }
   ],
   "source": [
    "x = jnp.array(jnp.arange(input_size,input_size+input_size), dtype=jnp.float32)\n",
    "x\n",
    "\n"
   ]
  },
  {
   "cell_type": "code",
   "execution_count": 56,
   "id": "86d71bef",
   "metadata": {},
   "outputs": [
    {
     "name": "stdout",
     "output_type": "stream",
     "text": [
      "Predictions: [ 2.4161375 15.922209  28.802181  42.306152  55.615265 ]\n"
     ]
    }
   ],
   "source": [
    "\n",
    "\n",
    "predictions = model.apply(params, x)\n",
    "print(\"Predictions:\", predictions)\n",
    "\n"
   ]
  },
  {
   "cell_type": "code",
   "execution_count": null,
   "id": "b2fe6b22",
   "metadata": {},
   "outputs": [],
   "source": []
  }
 ],
 "metadata": {
  "kernelspec": {
   "display_name": "Python (jax)",
   "language": "python",
   "name": "jax"
  },
  "language_info": {
   "codemirror_mode": {
    "name": "ipython",
    "version": 3
   },
   "file_extension": ".py",
   "mimetype": "text/x-python",
   "name": "python",
   "nbconvert_exporter": "python",
   "pygments_lexer": "ipython3",
   "version": "3.10.12"
  }
 },
 "nbformat": 4,
 "nbformat_minor": 5
}
