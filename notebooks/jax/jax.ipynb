{
 "cells": [
  {
   "cell_type": "code",
   "execution_count": 2,
   "id": "b5943039-a499-4758-9b10-2b111169680b",
   "metadata": {},
   "outputs": [],
   "source": [
    "import jax.numpy as jnp\n",
    "from jax import grad,jit,vmap\n",
    "from jax import random\n",
    "import numpy as np\n",
    "import jax"
   ]
  },
  {
   "cell_type": "code",
   "execution_count": 3,
   "id": "a750a579",
   "metadata": {},
   "outputs": [
    {
     "name": "stdout",
     "output_type": "stream",
     "text": [
      "[cuda(id=0)]\n"
     ]
    }
   ],
   "source": [
    "devices = jax.devices()\n",
    "print(devices)"
   ]
  },
  {
   "cell_type": "code",
   "execution_count": 4,
   "id": "cbce6040-3afc-4fe8-94fe-944ec2017670",
   "metadata": {},
   "outputs": [],
   "source": [
    "# test 1\n",
    "def fn(x):\n",
    "    return x*x*x*x + x*x*x + x*x + x \n",
    "    # x^4+x^3+x^2+x\n",
    "x_np = np.random.randn(1,1).astype(dtype='float32')\n",
    "x_jnp = jnp.array(x_np) "
   ]
  },
  {
   "cell_type": "code",
   "execution_count": 5,
   "id": "50f70580-8317-42dc-8f0d-0e13508a6308",
   "metadata": {},
   "outputs": [
    {
     "name": "stdout",
     "output_type": "stream",
     "text": [
      "6.4 µs ± 67.4 ns per loop (mean ± std. dev. of 7 runs, 100,000 loops each)\n",
      "694 µs ± 70.9 µs per loop (mean ± std. dev. of 7 runs, 1 loop each)\n"
     ]
    }
   ],
   "source": [
    "%timeit fn(x_np) #numpy on cpu\n",
    "%timeit jit(fn)(x_np).block_until_ready() #jit on gpu"
   ]
  },
  {
   "cell_type": "code",
   "execution_count": 8,
   "id": "4d4af530-4c93-46a7-95e2-c7ec09f7c05c",
   "metadata": {},
   "outputs": [
    {
     "name": "stdout",
     "output_type": "stream",
     "text": [
      "Matrix Multiplication (JAX, JIT):\n",
      "145 ms ± 407 µs per loop (mean ± std. dev. of 7 runs, 10 loops each)\n",
      "Matrix Multiplication (numpy):\n",
      "1.67 s ± 49.1 ms per loop (mean ± std. dev. of 7 runs, 1 loop each)\n"
     ]
    }
   ],
   "source": [
    "# test 2\n",
    "def matmul(a, b):\n",
    "    return jnp.dot(a, b)\n",
    "\n",
    "# Generate random matrices\n",
    "key = random.PRNGKey(0)\n",
    "a = random.normal(key, (5000, 5000), dtype=jnp.float32)\n",
    "b = random.normal(key, (5000, 5000), dtype=jnp.float32)\n",
    "\n",
    "# JIT compile the matrix multiplication function\n",
    "matmul_jit = jit(matmul)\n",
    "\n",
    "# Timing with JAX on GPU\n",
    "print(\"Matrix Multiplication (JAX, JIT):\")\n",
    "%timeit matmul_jit(a, b).block_until_ready()\n",
    "\n",
    "# Timing with NumPy on CPU\n",
    "a_np = a\n",
    "b_np = b\n",
    "print(\"Matrix Multiplication (numpy):\")\n",
    "%timeit np.dot(a_np, b_np)\n"
   ]
  },
  {
   "cell_type": "code",
   "execution_count": 14,
   "id": "a28bc1d9",
   "metadata": {},
   "outputs": [
    {
     "name": "stdout",
     "output_type": "stream",
     "text": [
      "Element-wise Function (JAX, JIT):\n",
      "6.75 ms ± 46.7 µs per loop (mean ± std. dev. of 7 runs, 100 loops each)\n",
      "Element-wise Function (numpy):\n",
      "1.78 s ± 123 ms per loop (mean ± std. dev. of 7 runs, 1 loop each)\n"
     ]
    }
   ],
   "source": [
    "# test 3\n",
    "def elementwise_fn(x):\n",
    "    return x**4 + x**3 + x**2 + x\n",
    "\n",
    "# Generate a large random array\n",
    "x_np = np.random.randn(50000000).astype(dtype='float32')\n",
    "x_jnp = jnp.array(x_np)\n",
    "\n",
    "# JIT compile the element-wise function\n",
    "elementwise_fn_jit = jit(elementwise_fn)\n",
    "\n",
    "# Timing with JAX on GPU\n",
    "print(\"Element-wise Function (JAX, JIT):\")\n",
    "%timeit elementwise_fn_jit(x_jnp).block_until_ready()\n",
    "\n",
    "# Timing with NumPy on CPU\n",
    "print(\"Element-wise Function (numpy):\")\n",
    "%timeit elementwise_fn(x_np)\n"
   ]
  },
  {
   "cell_type": "code",
   "execution_count": 17,
   "id": "ac4e1b0b",
   "metadata": {},
   "outputs": [
    {
     "name": "stdout",
     "output_type": "stream",
     "text": [
      "Sorting (JAX, CPU):\n",
      "211 ms ± 3.46 ms per loop (mean ± std. dev. of 7 runs, 1 loop each)\n",
      "Sorting (numpy):\n",
      "1.03 s ± 8.11 ms per loop (mean ± std. dev. of 7 runs, 1 loop each)\n"
     ]
    }
   ],
   "source": [
    "# test 4\n",
    "def sort_fn(x):\n",
    "    return jnp.sort(x)\n",
    "\n",
    "# Generate a large random array\n",
    "x_np = np.random.randn(10000000).astype(dtype='float32')\n",
    "x_jnp = jnp.array(x_np)\n",
    "\n",
    "# Timing with JAX on CPU\n",
    "print(\"Sorting (JAX, CPU):\")\n",
    "%timeit sort_fn(x_jnp).block_until_ready()\n",
    "\n",
    "# Timing with NumPy on CPU\n",
    "print(\"Sorting (numpy):\")\n",
    "%timeit np.sort(x_np)\n"
   ]
  },
  {
   "cell_type": "code",
   "execution_count": null,
   "id": "8bf969c2",
   "metadata": {},
   "outputs": [],
   "source": []
  }
 ],
 "metadata": {
  "kernelspec": {
   "display_name": "Python (myenv)",
   "language": "python",
   "name": "myenv"
  },
  "language_info": {
   "codemirror_mode": {
    "name": "ipython",
    "version": 3
   },
   "file_extension": ".py",
   "mimetype": "text/x-python",
   "name": "python",
   "nbconvert_exporter": "python",
   "pygments_lexer": "ipython3",
   "version": "3.10.12"
  }
 },
 "nbformat": 4,
 "nbformat_minor": 5
}
