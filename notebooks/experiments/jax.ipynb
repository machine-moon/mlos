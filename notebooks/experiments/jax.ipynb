{
 "cells": [
  {
   "cell_type": "code",
   "execution_count": null,
   "id": "b5943039-a499-4758-9b10-2b111169680b",
   "metadata": {},
   "outputs": [],
   "source": [
    "import jax.numpy as jnp\n",
    "from jax import grad,jit,vmap\n",
    "from jax import random\n",
    "import numpy as np\n",
    "import jax"
   ]
  },
  {
   "cell_type": "code",
   "execution_count": null,
   "id": "2c5faf30",
   "metadata": {},
   "outputs": [],
   "source": [
    "devices = jax.devices()\n",
    "print(devices)"
   ]
  },
  {
   "cell_type": "code",
   "execution_count": null,
   "id": "cbce6040-3afc-4fe8-94fe-944ec2017670",
   "metadata": {},
   "outputs": [],
   "source": [
    "# test 1\n",
    "def fn(x):\n",
    "    return x*x*x*x + x*x*x + x*x + x \n",
    "    # x^4+x^3+x^2+x\n",
    "x_np = np.random.randn(5000,5000).astype(dtype='float32')\n",
    "x_jnp = jnp.array(x_np) "
   ]
  },
  {
   "cell_type": "code",
   "execution_count": null,
   "id": "50f70580-8317-42dc-8f0d-0e13508a6308",
   "metadata": {},
   "outputs": [],
   "source": [
    "%timeit fn(x_np) #numpy on cpu\n",
    "%timeit jit(fn)(x_np).block_until_ready() #jit on cpu"
   ]
  },
  {
   "cell_type": "code",
   "execution_count": 6,
   "id": "4d4af530-4c93-46a7-95e2-c7ec09f7c05c",
   "metadata": {},
   "outputs": [
    {
     "name": "stdout",
     "output_type": "stream",
     "text": [
      "Matrix Multiplication (JAX, JIT):\n",
      "903 ms ± 13 ms per loop (mean ± std. dev. of 7 runs, 1 loop each)\n",
      "Matrix Multiplication (numpy):\n",
      "1.13 s ± 52.9 ms per loop (mean ± std. dev. of 7 runs, 1 loop each)\n"
     ]
    }
   ],
   "source": [
    "# test 2\n",
    "def matmul(a, b):\n",
    "    return jnp.dot(a, b)\n",
    "\n",
    "# Generate random matrices\n",
    "key = random.PRNGKey(0)\n",
    "a = random.normal(key, (5000, 5000), dtype=jnp.float32)\n",
    "b = random.normal(key, (5000, 5000), dtype=jnp.float32)\n",
    "\n",
    "# JIT compile the matrix multiplication function\n",
    "matmul_jit = jit(matmul)\n",
    "\n",
    "# Timing with JAX on GPU\n",
    "print(\"Matrix Multiplication (JAX, JIT):\")\n",
    "%timeit matmul_jit(a, b).block_until_ready()\n",
    "\n",
    "# Timing with NumPy on CPU\n",
    "a_np = a\n",
    "b_np = b\n",
    "print(\"Matrix Multiplication (numpy):\")\n",
    "%timeit np.dot(a_np, b_np)"
   ]
  },
  {
   "cell_type": "code",
   "execution_count": 12,
   "id": "298b5dcb",
   "metadata": {},
   "outputs": [
    {
     "ename": "SyntaxError",
     "evalue": "invalid syntax (2252938298.py, line 1)",
     "output_type": "error",
     "traceback": [
      "\u001b[0;36m  Cell \u001b[0;32mIn[12], line 1\u001b[0;36m\u001b[0m\n\u001b[0;31m    sudo apt-get install libgcc-10-dev\u001b[0m\n\u001b[0m         ^\u001b[0m\n\u001b[0;31mSyntaxError\u001b[0m\u001b[0;31m:\u001b[0m invalid syntax\n"
     ]
    }
   ],
   "source": [
    "sudo apt-get install libgcc-10-dev\n"
   ]
  },
  {
   "cell_type": "code",
   "execution_count": 13,
   "id": "139ad116",
   "metadata": {},
   "outputs": [
    {
     "name": "stdout",
     "output_type": "stream",
     "text": [
      "Element-wise Function (JAX, JIT):\n",
      "39.1 ms ± 1.97 ms per loop (mean ± std. dev. of 7 runs, 10 loops each)\n",
      "Element-wise Function (numpy):\n",
      "2.1 s ± 3.33 ms per loop (mean ± std. dev. of 7 runs, 1 loop each)\n"
     ]
    }
   ],
   "source": [
    "# test 3\n",
    "def elementwise_fn(x):\n",
    "    return x**4 + x**3 + x**2 + x\n",
    "\n",
    "# Generate a large random array\n",
    "x_np = np.random.randn(50000000).astype(dtype='float32')\n",
    "x_jnp = jnp.array(x_np)\n",
    "\n",
    "# JIT compile the element-wise function\n",
    "elementwise_fn_jit = jit(elementwise_fn)\n",
    "\n",
    "# Timing with JAX on GPU\n",
    "print(\"Element-wise Function (JAX, JIT):\")\n",
    "%timeit elementwise_fn_jit(x_jnp).block_until_ready()\n",
    "\n",
    "\n",
    "# Timing with NumPy on CPU\n",
    "print(\"Element-wise Function (numpy):\")\n",
    "%timeit elementwise_fn(x_np)\n"
   ]
  },
  {
   "cell_type": "code",
   "execution_count": 16,
   "id": "19d5a33a",
   "metadata": {},
   "outputs": [
    {
     "name": "stdout",
     "output_type": "stream",
     "text": [
      "Sorting (JAX, CPU):\n",
      "6.23 s ± 12.6 ms per loop (mean ± std. dev. of 7 runs, 1 loop each)\n",
      "Sorting (numpy):\n",
      "832 ms ± 2.43 ms per loop (mean ± std. dev. of 7 runs, 1 loop each)\n"
     ]
    }
   ],
   "source": [
    "# test 4\n",
    "def sort_fn(x):\n",
    "    return jnp.sort(x)\n",
    "\n",
    "# Generate a large random array\n",
    "x_np = np.random.randn(10000000).astype(dtype='float32')\n",
    "x_jnp = jnp.array(x_np)\n",
    "\n",
    "# Timing with JAX on CPU\n",
    "print(\"Sorting (JAX, CPU):\")\n",
    "%timeit sort_fn(x_jnp).block_until_ready()\n",
    "\n",
    "# Timing with NumPy on CPU\n",
    "print(\"Sorting (numpy):\")\n",
    "%timeit np.sort(x_np)\n"
   ]
  },
  {
   "cell_type": "code",
   "execution_count": null,
   "id": "838a995c",
   "metadata": {},
   "outputs": [],
   "source": []
  }
 ],
 "metadata": {
  "kernelspec": {
   "display_name": "Python (cpujax)",
   "language": "python",
   "name": "cpujax"
  }
 },
 "nbformat": 4,
 "nbformat_minor": 5
}
