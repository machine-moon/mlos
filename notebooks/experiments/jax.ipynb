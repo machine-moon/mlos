{
 "cells": [
  {
   "cell_type": "code",
   "execution_count": 4,
   "id": "b5943039-a499-4758-9b10-2b111169680b",
   "metadata": {},
   "outputs": [
    {
     "name": "stdout",
     "output_type": "stream",
     "text": [
      "test\n"
     ]
    }
   ],
   "source": [
    "import jax.numpy as jnp\n",
    "from jax import grad,jit,vmap\n",
    "from jax import random\n",
    "import numpy as np"
   ]
  },
  {
   "cell_type": "code",
   "execution_count": 6,
   "id": "cbce6040-3afc-4fe8-94fe-944ec2017670",
   "metadata": {},
   "outputs": [],
   "source": [
    "def fn(x):\n",
    "    return x*x*x*x + x*x*x + x*x + x \n",
    "    # x^4+x^3+x^2+x\n",
    "x_np = np.random.randn(5000,5000).astype(dtype='float32')\n",
    "x_jnp = jnp.array(x_np) "
   ]
  },
  {
   "cell_type": "code",
   "execution_count": 8,
   "id": "50f70580-8317-42dc-8f0d-0e13508a6308",
   "metadata": {},
   "outputs": [
    {
     "name": "stdout",
     "output_type": "stream",
     "text": [
      "170 ms ± 8.45 ms per loop (mean ± std. dev. of 7 runs, 1 loop each)\n"
     ]
    }
   ],
   "source": [
    "%timeit fn(x_np) #numpy on cpu"
   ]
  },
  {
   "cell_type": "code",
   "execution_count": 9,
   "id": "2cfbdb71-4196-4434-bcc7-c58e74679130",
   "metadata": {},
   "outputs": [
    {
     "name": "stdout",
     "output_type": "stream",
     "text": [
      "21.1 ms ± 270 μs per loop (mean ± std. dev. of 7 runs, 10 loops each)\n"
     ]
    }
   ],
   "source": [
    "%timeit jit(fn)(x_np).block_until_ready() #jit on cpu"
   ]
  },
  {
   "cell_type": "code",
   "execution_count": 11,
   "id": "4d4af530-4c93-46a7-95e2-c7ec09f7c05c",
   "metadata": {},
   "outputs": [
    {
     "name": "stdout",
     "output_type": "stream",
     "text": [
      "f\n"
     ]
    }
   ],
   "source": [
    "print(\"f\")"
   ]
  },
  {
   "cell_type": "code",
   "execution_count": null,
   "id": "693b43dc-6e6c-4215-a437-645321efb484",
   "metadata": {},
   "outputs": [],
   "source": []
  }
 ],
 "metadata": {
  "kernelspec": {
   "display_name": "Python (cpujax)",
   "language": "python",
   "name": "cpujax"
  },
  "language_info": {
   "codemirror_mode": {
    "name": "ipython",
    "version": 3
   },
   "file_extension": ".py",
   "mimetype": "text/x-python",
   "name": "python",
   "nbconvert_exporter": "python",
   "pygments_lexer": "ipython3",
   "version": "3.11.6"
  }
 },
 "nbformat": 4,
 "nbformat_minor": 5
}
