{
 "cells": [
  {
   "cell_type": "code",
   "execution_count": 2,
   "metadata": {},
   "outputs": [
    {
     "data": {
      "text/plain": [
       "True"
      ]
     },
     "execution_count": 2,
     "metadata": {},
     "output_type": "execute_result"
    }
   ],
   "source": [
    "# Step 1: Import PyTorch\n",
    "import torch\n",
    "\n",
    "# Step 2: Check if CUDA is available\n",
    "cuda_available = torch.cuda.is_available()\n",
    "cuda_available"
   ]
  },
  {
   "cell_type": "code",
   "execution_count": 3,
   "metadata": {},
   "outputs": [
    {
     "name": "stdout",
     "output_type": "stream",
     "text": [
      "Number of GPUs available: 1\n",
      "GPU 0: NVIDIA GeForce GTX 1650\n",
      "Tensor on GPU: tensor([[0.7073, 0.0973, 0.1148],\n",
      "        [0.4505, 0.8188, 0.6707],\n",
      "        [0.8127, 0.9568, 0.0108]], device='cuda:0')\n"
     ]
    }
   ],
   "source": [
    "\n",
    "# Step 3: Perform GPU tests if CUDA is available\n",
    "if cuda_available:\n",
    "    # Test 1: Print the number of GPUs available\n",
    "    print(f\"Number of GPUs available: {torch.cuda.device_count()}\")\n",
    "    \n",
    "    # Test 2: Print the name of the GPU(s)\n",
    "    for i in range(torch.cuda.device_count()):\n",
    "        print(f\"GPU {i}: {torch.cuda.get_device_name(i)}\")\n",
    "    \n",
    "    # Test 3: Perform a simple tensor operation on the GPU\n",
    "    tensor = torch.rand(3, 3)  # Create a random tensor\n",
    "    gpu_tensor = tensor.to('cuda')  # Move the tensor to GPU\n",
    "    print(f\"Tensor on GPU: {gpu_tensor}\")"
   ]
  },
  {
   "cell_type": "code",
   "execution_count": null,
   "metadata": {},
   "outputs": [],
   "source": []
  }
 ],
 "metadata": {
  "kernelspec": {
   "display_name": "torch",
   "language": "python",
   "name": "torch"
  }
 },
 "nbformat": 4,
 "nbformat_minor": 2
}
