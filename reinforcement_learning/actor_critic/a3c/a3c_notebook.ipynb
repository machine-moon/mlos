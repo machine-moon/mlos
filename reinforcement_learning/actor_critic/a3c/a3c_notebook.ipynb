{
 "cells": [
  {
   "cell_type": "code",
   "execution_count": 5,
   "metadata": {},
   "outputs": [],
   "source": [
    "import torch\n",
    "import torch.nn as nn\n",
    "import torch.nn.functional as F\n",
    "import torch.multiprocessing as mp\n",
    "\n",
    "import numpy as np\n",
    "import gymnasium as gym\n",
    "\n",
    "import time\n",
    "import os, sys, argparse"
   ]
  },
  {
   "cell_type": "code",
   "execution_count": null,
   "metadata": {},
   "outputs": [],
   "source": [
    "class a3c(nn.Module):\n",
    "    def __init__(self, input_dim, output_dim):\n",
    "        super(a3c, self).__init__()\n",
    "        self.conv1 = nn.Conv2d(input_dim, 128)\n",
    "        self.conv2 = nn.Conv2d(128, 128)\n",
    "        self.conv3 = nn.Conv2d(128, output_dim)\n",
    "        self.conv4 = nn.Conv2d(128, 1)\n",
    "\n",
    "    def forward(self, x):\n",
    "        x = F.relu(self.fc1(x))\n",
    "        x = F.relu(self.fc2(x))\n",
    "        policy = F.softmax(self.fc3(x), dim=1)\n",
    "        value = self.fc4(x)\n",
    "        return policy, value"
   ]
  }
 ],
 "metadata": {
  "kernelspec": {
   "display_name": "Python (torch)",
   "language": "python",
   "name": "torch"
  },
  "language_info": {
   "codemirror_mode": {
    "name": "ipython",
    "version": 3
   },
   "file_extension": ".py",
   "mimetype": "text/x-python",
   "name": "python",
   "nbconvert_exporter": "python",
   "pygments_lexer": "ipython3",
   "version": "3.10.12"
  }
 },
 "nbformat": 4,
 "nbformat_minor": 2
}
